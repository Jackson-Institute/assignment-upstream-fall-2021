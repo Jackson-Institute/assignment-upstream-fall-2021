{
 "cells": [
  {
   "cell_type": "markdown",
   "id": "b9226ec9",
   "metadata": {},
   "source": [
    "## Problem 1: BeautifulSoup (35 pts)"
   ]
  },
  {
   "cell_type": "markdown",
   "id": "8d3afde4",
   "metadata": {},
   "source": [
    "Observe the code chunk below. It uses BeautifulSoup to \"scrape\" information from NYTimes. Make sure you have internet connection (and have installed BeautifulSoup), run the code chunk."
   ]
  },
  {
   "cell_type": "code",
   "execution_count": null,
   "id": "9bf029c9",
   "metadata": {},
   "outputs": [],
   "source": [
    "import requests\n",
    "from bs4 import BeautifulSoup\n",
    " \n",
    "base_url = 'http://www.nytimes.com'\n",
    "r = requests.get(base_url)\n",
    "soup = BeautifulSoup(r.text)\n",
    "paragraphs = soup.find_all('p')\n",
    "\n",
    "for p in paragraphs:\n",
    "    print(p.get_text())"
   ]
  },
  {
   "cell_type": "markdown",
   "id": "1bded28b",
   "metadata": {},
   "source": [
    "Can you guess what each line of the code is doing? How many functions were called in the cell above?"
   ]
  },
  {
   "cell_type": "code",
   "execution_count": null,
   "id": "462eefa5",
   "metadata": {},
   "outputs": [],
   "source": [
    "# Your answer here"
   ]
  },
  {
   "cell_type": "markdown",
   "id": "52400be8",
   "metadata": {},
   "source": [
    "Play around with the \"soup\" variable (print it out helps), and try to parse out the NYTimes headlines for today. Here some helpful information on how to do that: https://www.dataquest.io/blog/web-scraping-tutorial-python/; https://proxiesapi-com.medium.com/scraping-the-new-york-times-with-python-and-beautiful-soup-6e5f3bc58e39"
   ]
  },
  {
   "cell_type": "code",
   "execution_count": null,
   "id": "dd9679d4",
   "metadata": {},
   "outputs": [],
   "source": [
    "# Your code here"
   ]
  },
  {
   "cell_type": "markdown",
   "id": "27c9c1c1",
   "metadata": {},
   "source": [
    "\n",
    "## Problem 2: Exceptions (10 pts)\n",
    "\n",
    "Below is a function called weighted_avg that takes a list of grades and a corresponding list of weights and returns the weighted average of the grades. The function raises what is called an \"exception\" if:\n",
    "\n",
    "    a weight is less than 0 or greater than 100\n",
    "    the weights do not add to 100\n",
    "    the number of weights and grades are not equal\n",
    "    a grade is below 0 (grades above 100 would be considered extra credit and are acceptable)\n"
   ]
  },
  {
   "cell_type": "code",
   "execution_count": null,
   "id": "0deb1600",
   "metadata": {},
   "outputs": [],
   "source": [
    "def weighted_avg(grades,weights):\n",
    " \n",
    "    if any(weight < 0 or weight > 100 for weight in weights):\n",
    "        raise Exception (\"Error: A weight is less than 0 or greater than 100\")\n",
    "\n",
    "    elif sum(weights) != 100:\n",
    "        raise Exception (\"Error: The weights do not add to 100\")\n",
    "\n",
    "    elif len(grades) != len(weights):\n",
    "        raise Exception (\"Error: The number of weights and grades are not equal\")\n",
    "\n",
    "    elif any (grade < 0 for grade in grades):\n",
    "        raise Exception (\"Error: A grade is below 0\")\n",
    "\n",
    "    else:\n",
    "        avg = 0\n",
    "        for i in range(len(grades)):\n",
    "            avg += grades[i] * (weights[i] / 100)\n",
    "        return avg   \n",
    "\n",
    "grades1 = [88,99,100,70]\n",
    "weights1 = [30, 30, 30, 5]\n",
    "\n",
    "grades2 = [78, 75, 80, 99]\n",
    "weights2 = [110, 10, -20, 0]\n",
    "\n",
    "grades3 = [84, 80, 67, 97]\n",
    "weights3 = [50, 25, 25]\n",
    "\n",
    "grades4 = [100, 80, 90, 75]\n",
    "weights4 = [20, 25, 25, 30]\n"
   ]
  },
  {
   "cell_type": "markdown",
   "id": "35af707d",
   "metadata": {},
   "source": [
    "Catching Exceptions (read through and understand)\n",
    "\n",
    "Below is a try...except... procedure to catch an exception or an error.\n",
    "\n",
    "The program tries to execute the weighted_avg function, but the sum of weights is not 100, so it raised an error/exception. Normally, the execution stops. However, with an \"except\" statement, it catches the exception if it arises and keeps executing with the backup plan. This is useful when trying to scrape information from a website to ensure you have a backup plan to resume execution if you fail to connect to the web server or you did not get the desired information. "
   ]
  },
  {
   "cell_type": "code",
   "execution_count": null,
   "id": "4a34b381",
   "metadata": {},
   "outputs": [],
   "source": [
    "grades5 = [100, 80, 90, 75]\n",
    "weights5 = [20, 20, 25, 30]\n",
    "\n",
    "import sys\n",
    "try:\n",
    "    weighted_avg(grades5, weights5)\n",
    "except:\n",
    "    e = sys.exc_info()[0]\n",
    "    print( \"Error: %s\" % e )"
   ]
  },
  {
   "cell_type": "code",
   "execution_count": null,
   "id": "cda21b9e",
   "metadata": {},
   "outputs": [],
   "source": [
    "# Did the above code make sense? Your answer here: "
   ]
  },
  {
   "cell_type": "markdown",
   "id": "02d0965f",
   "metadata": {},
   "source": [
    "## Problem 3: Pandas (10 pts)"
   ]
  },
  {
   "cell_type": "markdown",
   "id": "e4a3c761",
   "metadata": {},
   "source": [
    "Create a pandas dataframe with:\n",
    "\n",
    "1. a column called \"words\", which contains the unique words from the NYTimes headlines from above\n",
    "2. a column called \"frequency\", which contains the frequency of those words from the headlines\n",
    "\n",
    "Save the pandas dataframe into a csv file."
   ]
  },
  {
   "cell_type": "code",
   "execution_count": null,
   "id": "39ac9949",
   "metadata": {},
   "outputs": [],
   "source": [
    "# Your code here"
   ]
  },
  {
   "cell_type": "markdown",
   "id": "0c0053b7",
   "metadata": {},
   "source": [
    "## Problem 4: Twint (20 pts)"
   ]
  },
  {
   "cell_type": "markdown",
   "id": "c3e67bca",
   "metadata": {},
   "source": [
    "Run the following cell to install twint:\n",
    "\n",
    "(Note that we are not directly \"pip install twint\" because sometimes packages are not properly updated with Python versions. Since twint only works for Python 3.6, and most of us have newer versions of Python (>3.8), we found a version of twint that'll support newer version of Python)"
   ]
  },
  {
   "cell_type": "code",
   "execution_count": null,
   "id": "2291b0bc",
   "metadata": {},
   "outputs": [],
   "source": [
    "!pip3 install --user --upgrade git+https://github.com/twintproject/twint.git@origin/master#egg=twint\n",
    "!pip install nest_asyncio"
   ]
  },
  {
   "cell_type": "markdown",
   "id": "61ebdfcb",
   "metadata": {},
   "source": [
    "Import Twint and a asynchronous coordination package (since Twitter server will reply to us when they are available)"
   ]
  },
  {
   "cell_type": "code",
   "execution_count": null,
   "id": "4ca86a5f",
   "metadata": {},
   "outputs": [],
   "source": [
    "import twint\n",
    "import nest_asyncio\n",
    "nest_asyncio.apply()"
   ]
  },
  {
   "cell_type": "markdown",
   "id": "d16248d3",
   "metadata": {},
   "source": [
    "Carefully study the following code, learn about what the parameters do (i.e., Search, Limit, Pandas: https://github.com/twintproject/twint)"
   ]
  },
  {
   "cell_type": "code",
   "execution_count": null,
   "id": "41cfad14",
   "metadata": {
    "scrolled": true
   },
   "outputs": [],
   "source": [
    "c = twint.Config()\n",
    "c.Search = \"#woman\"\n",
    "c.Limit = 1\n",
    "c.Pandas = True\n",
    "c.Hide_output= True\n",
    "twint.run.Search(c)\n",
    "dataframe = twint.storage.panda.Tweets_df\n",
    "dataframe"
   ]
  },
  {
   "cell_type": "markdown",
   "id": "83181174",
   "metadata": {},
   "source": [
    "Adapt the above program to scrape the last 10 tweets from Elon Musk (hint: his twitter handle is \"elonmusk\")"
   ]
  },
  {
   "cell_type": "code",
   "execution_count": null,
   "id": "187b2a2a",
   "metadata": {},
   "outputs": [],
   "source": [
    "# Your code here"
   ]
  },
  {
   "cell_type": "markdown",
   "id": "48a5e1c2",
   "metadata": {},
   "source": [
    "Save the pandas data frame with elon musk tweets into a CSV file"
   ]
  },
  {
   "cell_type": "code",
   "execution_count": null,
   "id": "646006c0",
   "metadata": {},
   "outputs": [],
   "source": [
    "# Your code here"
   ]
  }
 ],
 "metadata": {
  "kernelspec": {
   "display_name": "Python 3",
   "language": "python",
   "name": "python3"
  },
  "language_info": {
   "codemirror_mode": {
    "name": "ipython",
    "version": 3
   },
   "file_extension": ".py",
   "mimetype": "text/x-python",
   "name": "python",
   "nbconvert_exporter": "python",
   "pygments_lexer": "ipython3",
   "version": "3.8.8"
  }
 },
 "nbformat": 4,
 "nbformat_minor": 5
}
