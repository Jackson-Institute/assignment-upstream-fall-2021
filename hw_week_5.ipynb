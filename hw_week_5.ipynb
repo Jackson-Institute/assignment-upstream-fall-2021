{
 "cells": [
  {
   "cell_type": "markdown",
   "metadata": {},
   "source": [
    "## Homework Week 5"
   ]
  },
  {
   "cell_type": "markdown",
   "metadata": {},
   "source": [
    "### Conditionals and Loops(10pts)\n",
    "\n",
    "<b> +1 Bonus if you can do the for-loops in one line (using list comprehension) </b> "
   ]
  },
  {
   "cell_type": "markdown",
   "metadata": {},
   "source": [
    "Use a \"for-loop\", print out all the odd numbers from 1-100."
   ]
  },
  {
   "cell_type": "code",
   "execution_count": null,
   "metadata": {},
   "outputs": [],
   "source": [
    "#Your code here:"
   ]
  },
  {
   "cell_type": "markdown",
   "metadata": {},
   "source": [
    "Print every prime number between 1 and 100. (You can use two for-loops, one to iterate from 1-100, another to check for any denominators)"
   ]
  },
  {
   "cell_type": "code",
   "execution_count": null,
   "metadata": {},
   "outputs": [],
   "source": [
    "# Your code here:"
   ]
  },
  {
   "cell_type": "markdown",
   "metadata": {},
   "source": [
    "Take two numbers from the user, an upper bound and a lower bound. Using a loop, calculate the sum of numbers from the lower bound to the upper bound. Also, calculate the average of numbers. Print the result."
   ]
  },
  {
   "cell_type": "code",
   "execution_count": null,
   "metadata": {},
   "outputs": [],
   "source": [
    "# Your code here:"
   ]
  },
  {
   "cell_type": "markdown",
   "metadata": {},
   "source": [
    "Use a \"while\" loop to print out every fourth number counting backwards from 100 to 1, use the \"break\" statement to exit the loop."
   ]
  },
  {
   "cell_type": "code",
   "execution_count": null,
   "metadata": {},
   "outputs": [],
   "source": [
    "# Your code here:"
   ]
  },
  {
   "cell_type": "markdown",
   "metadata": {},
   "source": [
    "Write a script that prints out all the squares of numbers from a user inputed lower to a user inputed upper bound.\n",
    "\n",
    "Use a for loop that demonstrates the use of the range function."
   ]
  },
  {
   "cell_type": "code",
   "execution_count": null,
   "metadata": {},
   "outputs": [],
   "source": [
    "# Your code here:"
   ]
  },
  {
   "cell_type": "markdown",
   "metadata": {},
   "source": [
    "### Print the Pattern (10 pts)\n",
    "\n",
    "Print the following pattern using for-loops\n",
    "\n",
    "1 <br>\n",
    "1 2 <br>\n",
    "1 2 3 <br>\n",
    "1 2 3 4 <br>\n",
    "1 2 3 4 5 <br>\n"
   ]
  },
  {
   "cell_type": "code",
   "execution_count": null,
   "metadata": {},
   "outputs": [],
   "source": [
    "# Your code here: "
   ]
  },
  {
   "cell_type": "markdown",
   "metadata": {},
   "source": [
    "### Mock Font Generator (10 pts)\n",
    "\n",
    "Transform the string below by randomly capitalizing each letter. For each letter in the string, use the random number generator from the last assignment to generate a random number from 1-100. If the number is greater than 50, then capitalize this letter in the transformed string. \n",
    "\n",
    "Example output: sPoNGeBoB SquArE PaNtS"
   ]
  },
  {
   "cell_type": "code",
   "execution_count": null,
   "metadata": {},
   "outputs": [],
   "source": [
    "text = \"spongebob square pants\""
   ]
  },
  {
   "cell_type": "markdown",
   "metadata": {},
   "source": [
    "### Sets (10 pts)¶\n",
    "\n",
    "Write a script that prompts the user for two words (two, one-word strings). Print all the unique letters that are common to both words, in alphabetical order, using for loops in your solution.\n",
    "\n",
    "For example:\n",
    "\n",
    "Enter one word: Home\n",
    "Enter another word: meter\n",
    "\n",
    "Letters in common: em"
   ]
  },
  {
   "cell_type": "code",
   "execution_count": null,
   "metadata": {},
   "outputs": [],
   "source": [
    "# Your code here: "
   ]
  },
  {
   "cell_type": "markdown",
   "metadata": {},
   "source": [
    "### Lists (10 pts)"
   ]
  },
  {
   "cell_type": "markdown",
   "metadata": {},
   "source": [
    "Given a word, provided below, make a list of all strings that can be formed by deleting exactly one character from the word.\n",
    "\n",
    "Example:\n",
    "\n",
    "Input: \"Welcomed\"\n",
    "\n",
    "Output: ['elcomed', 'Wlcomed', 'Wecomed', 'Welomed', 'Welcmed', 'Welcoed', 'Welcomd', 'Welcome']"
   ]
  },
  {
   "cell_type": "code",
   "execution_count": null,
   "metadata": {},
   "outputs": [],
   "source": [
    "# Your code here:"
   ]
  },
  {
   "cell_type": "markdown",
   "metadata": {},
   "source": [
    "### Dictionary Drills (10 pts)"
   ]
  },
  {
   "cell_type": "markdown",
   "metadata": {},
   "source": [
    "Write a script that takes a sentence from the user and returns:\n",
    "    - the number of lower case letters\n",
    "    - the number of uppercase letters\n",
    "    - the number of punctuation characters\n",
    "    - the total number of characters\n",
    "\n",
    "Use a dictionay to store the count of each of the above.\n",
    "Note: ignore all spaces\n",
    "\n",
    "Example input:\n",
    "    I love to work with dictionaries! \n",
    "Example output:\n",
    "       Uppercase: 1\n",
    "       Lowercase: 26\n",
    "       Punctuation: 1 "
   ]
  },
  {
   "cell_type": "code",
   "execution_count": null,
   "metadata": {},
   "outputs": [],
   "source": [
    "#Your code here:"
   ]
  },
  {
   "cell_type": "markdown",
   "metadata": {},
   "source": [
    "Take in a number from the user and print \"January\", \"Feburary\", \"March\", \"April\", ..., \"December\" or \"other\" if the number from the user is 1, 2, 3, 4, ..., 12 or other respectively. \n",
    "\n"
   ]
  },
  {
   "cell_type": "code",
   "execution_count": null,
   "metadata": {},
   "outputs": [],
   "source": [
    "#Your code here:"
   ]
  },
  {
   "cell_type": "markdown",
   "metadata": {},
   "source": [
    "Creat a new dictionary using the three dictionaries below. Then print out each key-value pair.\n",
    "\n",
    "dict_1 = {1:1, 2:4}\n",
    "dict_2 = {3:9, 4:16}\n",
    "dict_3 = {5:25, 6:36, 7:49}\n",
    "\n"
   ]
  },
  {
   "cell_type": "code",
   "execution_count": null,
   "metadata": {},
   "outputs": [],
   "source": [
    "# Your code here: "
   ]
  },
  {
   "cell_type": "markdown",
   "metadata": {},
   "source": [
    "### Chinese Zodiac (20 points)¶\n",
    "\n",
    "Write a Python program to display the sign of the Chinese Zodiac for given year in which you were born."
   ]
  },
  {
   "cell_type": "code",
   "execution_count": null,
   "metadata": {},
   "outputs": [],
   "source": [
    "# Your code here: "
   ]
  },
  {
   "cell_type": "markdown",
   "metadata": {},
   "source": [
    "\n",
    "### Fibonacci (20 points)¶\n",
    "\n",
    "The Fibonacci numbers begin with 1, 1. After the first two numbers, each number is the sum of the previous two. 1 + 1 = 2, so 2 is the third number. Then 1 + 2 = 3, so 3 is the next one, and so on. Write a script that prompts the user for an integer number, then prints all the Fibonacci numbers that are less than or equal to the input, in order.\n",
    "\n",
    "Example:\n",
    "\n",
    "Enter a number: 15\n",
    "\n",
    "1 1 2 3 5 8 13\n",
    "\n"
   ]
  },
  {
   "cell_type": "code",
   "execution_count": null,
   "metadata": {},
   "outputs": [],
   "source": [
    "# Your code here: "
   ]
  },
  {
   "cell_type": "markdown",
   "metadata": {},
   "source": [
    "### Extra Credit (15 pts): PEP 8 Style Guide (reading and response)\n",
    "\n",
    "Write a 250 word reading response to the article referenced below. In addition, please list 3 questions that you have from the article (the questions do not count towards the 250 word requirement). Please write your response in the markdown cell below.\n",
    "\n",
    "The writing response is a free response, so you may write about your reactions, such as an interesting thing that you saw in the article, something that really stuck out to you, etc.\n",
    "\n",
    "Article: The PEP 8 Style Guide: https://www.python.org/dev/peps/pep-0008/ This document is really important for Python coders because it describes best practices and customs.\n",
    "\n"
   ]
  },
  {
   "cell_type": "markdown",
   "metadata": {},
   "source": [
    "Your answer here: "
   ]
  }
 ],
 "metadata": {
  "kernelspec": {
   "display_name": "Python 3",
   "language": "python",
   "name": "python3"
  },
  "language_info": {
   "codemirror_mode": {
    "name": "ipython",
    "version": 3
   },
   "file_extension": ".py",
   "mimetype": "text/x-python",
   "name": "python",
   "nbconvert_exporter": "python",
   "pygments_lexer": "ipython3",
   "version": "3.8.8"
  }
 },
 "nbformat": 4,
 "nbformat_minor": 2
}
