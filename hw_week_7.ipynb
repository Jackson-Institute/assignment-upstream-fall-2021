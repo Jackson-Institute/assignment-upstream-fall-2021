{
 "cells": [
  {
   "cell_type": "markdown",
   "id": "58e5b4ee",
   "metadata": {},
   "source": [
    "### All the president's speeches\n",
    "45pts"
   ]
  },
  {
   "cell_type": "markdown",
   "id": "60ba26ce",
   "metadata": {},
   "source": [
    "As we learned last week, word frequency distribution is an intuitive way of determining the major themes, topics, or even preoccupations of the speech giver (to be even more fancy, checkout Term Frequency-Inverse Document Frequency - TF-IDF). Pull texts from different US presidents and use FreqDist() to gain insights into the data. This is a fairly open assignment. The goal is to identify something interesting! Pull the text, tokenize, remove stopwords, and plot the frequency of the words. That's the technical part. But much of this assignment is your ability to use word frequency (or TF-IDF) to gain insights comparatively, intra or inter presidents. Let the python code from our lecture be your guide! The more interesting and creative the analysis, the more points you will receive. We might pick one student's analysis to be displayed in lecture, and that person will receive bonus credit for the work."
   ]
  },
  {
   "cell_type": "code",
   "execution_count": null,
   "id": "4752c7fb",
   "metadata": {},
   "outputs": [],
   "source": [
    "# Your analysis here"
   ]
  },
  {
   "cell_type": "markdown",
   "id": "20e666bf",
   "metadata": {},
   "source": [
    "### Pizza Problem\n",
    "\n",
    "45pts"
   ]
  },
  {
   "cell_type": "markdown",
   "id": "c544a61f",
   "metadata": {},
   "source": [
    "Your are super motivated to serve your eventual computer overlords and prove your fealty to them, so you offer, free of charge, to help Elm City Pizza, a local Pizza company, write a script to take online pizza orders.\n",
    "\n",
    "Write a script that when a user enters the correct phone number (203-555-5555), prints \"Elm City Pizza, where we have never had a case of food poisoning that can be proved. My name is Hal, what's your name?\" The user then enters their name. The response should print \"Wow (users name) what an awesome name. What would you like to order?\" and then offers an input statement.\n",
    "\n",
    "The menu is limited. There is pizza and there are salads. If the user asks for anything else print \"Sorry,(users name) we don't have that.\" And then prompts them again with a different input statement, \"How about a super awesome pizza? Take a look at our menu, you'll find its delicious.\"\n",
    "\n",
    "By the way, Elm City Pizza is a vegan pizza restaraunt. Here is the Menu.\n",
    "\n",
    "MENU: Pizza: The Basic: Tomato and Cashew Cream Cheese Small: 6.95 Medium: 8.95 Large 10.90\n",
    "\n",
    "Pizza Toppings (each additional topping, .50): Shitake, Jackfruit, Sweet Potato, Hummus, Chickpeas, Lentils, Tofu, Edamame, Black Bean, Red Cabbage, Cucumber, Tomato, Jicama, Fried Green Tomatoes, Sun Dried Tomatoes,\n",
    "\n",
    "Salads: Vegan Caesar, Vegan Greek, Cucumber_Tumeric_Tomato Small: 4.95 Large: 6.95\n",
    "\n",
    "If the user asks for any meat or if their are any \"normal\" cheese (mozerella, parmesian) on their pizza, the response should be \"Sorry, (user name) but you need to do some more work.\" and severs the contact (breaks the loop), forcing them to \"call back\" (enter the number again). But if they use the same name the output should read \"Sorry (user name) but that's too quick to evolve. Call us back when you have.\" For the evolved, take their order. Prompt the user with \"Anything else?\" They can add what they want until they input, \"No that's it.\" At that point summarize their order, and tell them how much it will cost.\n",
    "\n",
    "Test your code with different conditions. Make sure it cannot be broken by flawed or deliberately malicious user inputs."
   ]
  },
  {
   "cell_type": "code",
   "execution_count": 7,
   "id": "e0ea17c4",
   "metadata": {},
   "outputs": [],
   "source": [
    "# Your code here"
   ]
  },
  {
   "cell_type": "markdown",
   "id": "67c1edfb",
   "metadata": {},
   "source": [
    "### Twitter Developer Account\n",
    "10pts"
   ]
  },
  {
   "cell_type": "markdown",
   "id": "1f7daf4c",
   "metadata": {},
   "source": [
    "Apply for a Twitter development account using your Yale email: https://developer.twitter.com/en/apply-for-access. Paste your twitter handle below."
   ]
  },
  {
   "cell_type": "code",
   "execution_count": 8,
   "id": "7652801d",
   "metadata": {},
   "outputs": [],
   "source": [
    "# Your twitter handle here"
   ]
  }
 ],
 "metadata": {
  "kernelspec": {
   "display_name": "Python 3",
   "language": "python",
   "name": "python3"
  },
  "language_info": {
   "codemirror_mode": {
    "name": "ipython",
    "version": 3
   },
   "file_extension": ".py",
   "mimetype": "text/x-python",
   "name": "python",
   "nbconvert_exporter": "python",
   "pygments_lexer": "ipython3",
   "version": "3.8.8"
  }
 },
 "nbformat": 4,
 "nbformat_minor": 5
}
