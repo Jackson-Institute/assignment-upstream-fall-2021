{
 "cells": [
  {
   "cell_type": "markdown",
   "id": "58e5b4ee",
   "metadata": {},
   "source": [
    "### All the president's speeches\n",
    "45pts"
   ]
  },
  {
   "cell_type": "markdown",
   "id": "60ba26ce",
   "metadata": {},
   "source": [
    "As we learned last week, word frequency distribution is an intuitive way of determining the major themes, topics, or even preoccupations of the speech giver (to be even more fancy, checkout Term Frequency-Inverse Document Frequency - TF-IDF). Pull texts from different US presidents and use FreqDist() to gain insights into the data. This is a fairly open assignment. The goal is to identify something interesting! Pull the text, tokenize, remove stopwords, and plot the frequency of the words. That's the technical part. But much of this assignment is your ability to use word frequency (or TF-IDF) to gain insights comparatively, intra or inter presidents. Let the python code from our lecture be your guide! The more interesting and creative the analysis, the more points you will receive. We might pick one student's analysis to be displayed in lecture, and that person will receive bonus credit for the work."
   ]
  },
  {
   "cell_type": "code",
   "execution_count": null,
   "id": "4752c7fb",
   "metadata": {},
   "outputs": [],
   "source": [
    "# Your analysis here"
   ]
  },
  {
   "cell_type": "markdown",
   "id": "6ad0a658",
   "metadata": {},
   "source": [
    "### Front Page of the NYTimes\n",
    "\n",
    "45pts"
   ]
  },
  {
   "cell_type": "markdown",
   "id": "a72bf402",
   "metadata": {},
   "source": [
    "Install package BeautifulSoup (by running the code block below)"
   ]
  },
  {
   "cell_type": "code",
   "execution_count": null,
   "id": "8b2201d0",
   "metadata": {},
   "outputs": [],
   "source": [
    "!pip install beautifulsoup4"
   ]
  },
  {
   "cell_type": "markdown",
   "id": "ef7f7d79",
   "metadata": {},
   "source": [
    "Observe the code chunk below. It uses BeautifulSoup to \"scrape\" information from NYTimes. Make sure you have internet connection (and have installed the package as mentioned above), run the code chunk."
   ]
  },
  {
   "cell_type": "code",
   "execution_count": null,
   "id": "0b018913",
   "metadata": {},
   "outputs": [],
   "source": [
    "import requests\n",
    "from bs4 import BeautifulSoup\n",
    " \n",
    "base_url = 'http://www.nytimes.com'\n",
    "r = requests.get(base_url)\n",
    "soup = BeautifulSoup(r.text)\n",
    "paragraphs = soup.find_all('p')\n",
    "\n",
    "all_text = []\n",
    "for p in paragraphs:\n",
    "    all_text.append(p.get_text())\n",
    "print(all_text)"
   ]
  },
  {
   "cell_type": "markdown",
   "id": "03233c26",
   "metadata": {},
   "source": [
    "Run similar text analysis as we did in class, with text stored in the all_text variable. Tell a story (using data and statistics) about what happened in the world today according to the NYTimes."
   ]
  },
  {
   "cell_type": "code",
   "execution_count": null,
   "id": "c04e280d",
   "metadata": {},
   "outputs": [],
   "source": [
    "# Your analysis here"
   ]
  },
  {
   "cell_type": "markdown",
   "id": "67c1edfb",
   "metadata": {},
   "source": [
    "### Twitter Developer Account\n",
    "10pts"
   ]
  },
  {
   "cell_type": "markdown",
   "id": "1f7daf4c",
   "metadata": {},
   "source": [
    "Apply for a Twitter development account using your Yale email: https://developer.twitter.com/en/apply-for-access. Paste your twitter handle below."
   ]
  },
  {
   "cell_type": "code",
   "execution_count": null,
   "id": "7652801d",
   "metadata": {},
   "outputs": [],
   "source": [
    "# Your twitter handle here"
   ]
  }
 ],
 "metadata": {
  "kernelspec": {
   "display_name": "Python 3",
   "language": "python",
   "name": "python3"
  },
  "language_info": {
   "codemirror_mode": {
    "name": "ipython",
    "version": 3
   },
   "file_extension": ".py",
   "mimetype": "text/x-python",
   "name": "python",
   "nbconvert_exporter": "python",
   "pygments_lexer": "ipython3",
   "version": "3.8.8"
  }
 },
 "nbformat": 4,
 "nbformat_minor": 5
}
