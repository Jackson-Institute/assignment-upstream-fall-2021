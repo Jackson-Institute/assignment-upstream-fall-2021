{
 "cells": [
  {
   "cell_type": "markdown",
   "id": "b9226ec9",
   "metadata": {},
   "source": [
    "## Problem 1: BeautifulSoup (35 pts)"
   ]
  },
  {
   "cell_type": "markdown",
   "id": "8d3afde4",
   "metadata": {},
   "source": [
    "Observe the code chunk below. It uses BeautifulSoup to \"scrape\" information from NYTimes. Make sure you have internet connection (and have installed BeautifulSoup), run the code chunk."
   ]
  },
  {
   "cell_type": "code",
   "execution_count": 7,
   "id": "9bf029c9",
   "metadata": {},
   "outputs": [
    {
     "name": "stdout",
     "output_type": "stream",
     "text": [
      "To End Infrastructure Stalemate, Democrats Turned to the Black Caucus\n",
      "Infrastructure Bill Makes First Major U.S. Investment in Climate Resilience\n",
      "The infrastructure plan will address transportation, water, energy and more. Here’s how states want billions spent.\n",
      "President Biden celebrated his infrastructure victory, even with a harder task looming.\n",
      "Advertisement\n",
      "How Police Justify Killing Drivers: The Vehicle Was a Weapon\n",
      "Key Findings From Our Investigation\n",
      "The Financial Incentives Behind the Policing of Motorists\n",
      "Why Many Police Traffic Stops Turn Deadly\n",
      "Democrats Thought They Hit Bottom in Rural, White America. It Wasn’t the Bottom.\n",
      "An Atlanta district attorney may convene a special grand jury in her investigation of election interference by former President Trump.\n",
      "Americans Are Flush With Cash and Jobs. They Also Think the Economy Is Awful.\n",
      "Despite signs that the economy is improving and the virus is waning, many Americans feel trapped in a pandemic funk.\n",
      "Fire in Covid intensive care ward kills 11 people in India.\n",
      "Prosecutors charge a Rhode Island man with stealing $450,000 in Covid unemployment benefits.\n",
      "U.S. hot spots ›\n",
      "Vaccinations ›\n",
      "Global hot spots ›\n",
      "Other trackers:\n",
      "Choose your own places\n",
      "Other trackers:\n",
      "Young Women Are Leading Climate Protests. Guess Who Runs Global Talks?\n",
      "Thousands of demonstrators are marching in Glasgow to call for urgent climate action. Here’s the latest.\n",
      "At Least 8 Dead at Travis Scott Concert After Crowd Surge Caused ‘Panic’\n",
      "F.B.I. Searches James O’Keefe’s Home in Ashley Biden Diary Theft Inquiry\n",
      "The Weekender: A Look at the Grandeur of Soviet-Era Metros\n",
      "Did you follow the news this week? Take our quiz.\n",
      "Advertisement\n",
      "The Price of Living in ‘Paradise’ Is Higher Than Ever\n",
      "Hunter Biden’s best artwork has the generic smooth quality of the art you might find in a hotel, our critic writes.\n",
      "Is it just us? Or does everyone have a cold right now?\n",
      "Maureen Dowd\n",
      "Wokeness Derails the Democrats\n",
      "Lindsay Crouse\n",
      "What I’ve Learned From Running Marathons\n",
      "Ross Douthat\n",
      "How I Became Extremely Open-Minded\n",
      "Paul Krugman\n",
      "Is the Great Resignation a Great Rethink?\n",
      "Ellen Johnson Sirleaf\n",
      "How Do You Tell People in Africa That They Must Leave Their Homes or Drown?\n",
      "Maximilien Van Aertryck and Axel Danielson\n",
      "While Working, ‘You Simply Stop Thinking’\n",
      "Serge Schmemann\n",
      "I Suffered From ‘Moscow Eye.’ Now There’s ‘Havana Syndrome.’\n",
      "Tressie McMillan Cottom\n",
      "Kyrsten Sinema and the Politics of a Sleeveless Silhouette\n",
      "Peter Coy\n",
      "Eric Adams Has a New Job. Many of His Constituents Don’t.\n",
      "Jessica Grose\n",
      "Big Kid Vaccines Are Here!\n",
      "Jenée Desmond-Harris\n",
      "Should I Try to Save a Child From Her Adoptive Mom’s Bad Race Politics?\n",
      "John Reid and Thomas E. Lovejoy\n",
      "The Road to Climate Recovery Goes Through the Wild Woods\n",
      "Jay Caspian Kang\n",
      "The Forgotten Nursing-Home Tragedy\n",
      "Lauren Kelley\n",
      "Tell Us Your Abortion Story\n",
      "Advertisement\n",
      "Listen to the Latest Narrated Times Articles\n",
      "Sign Up for John McWhorter’s Newsletter\n",
      "Listen to ‘The Book Review Podcast’\n",
      "Attend the Climate Hub\n",
      "26.2 Miles. 50 Years.\n",
      "People Tied to Project Veritas Scrutinized in Theft of Diary From Biden’s Daughter\n",
      "N.Y.C. Rats: They’re in the Park, on Your Block and Even at Your Table\n",
      "‘I Don’t Want to Die for It’: School Board Members Face Rising Threats\n",
      "Near-Daily Tests, Sleeping in Classrooms: Life in Covid-Zero China\n",
      "Foreman Says Military Jury Was Disgusted by C.I.A. Torture\n",
      "In a Region in Strife, India’s Moral High Ground Erodes\n",
      "An Environmental Hero or Outlaw? Can It Be Both?\n",
      "Eric Garner’s Mother Wants Answers\n",
      "Trump Justice Dept. Official Defies Request by Jan. 6 Panel\n",
      "Berkshire Hathaway’s Profit Fell in the Third Quarter\n",
      "Andrew Cuomo Sex-Crime Charge May Be ‘Defective,’ D.A. Says\n",
      "Aaron Rodgers Lashes Out About N.F.L.’s Vaccine Requirements\n",
      "Star System With Right-Angled Planets Surprises Astronomers\n",
      "Marília Mendonça, Brazilian Pop Star, Dies in Plane Crash at 26\n",
      "Advertisement\n",
      "This Part Is the Worst Part\n",
      "How to Get Through a Pandemic Breakup\n",
      "With a Baby on the Way, It Was Time to Embrace My Disability\n",
      "How to Help Your Perfectionist Kid\n",
      "Becoming a Dad Meant Losing My Edge\n",
      "Will World-Class Architecture Bring Civic Pride Back to Memphis?\n",
      "Review: In a World That Exploits Women, She Exploits Herself\n",
      "New Museum Triennial Shows Hidden Strength of Soft Power\n",
      "Primp Your Ride\n",
      "Who Gets Left Out of the ‘Great Outdoors’ Story?\n",
      "Lemony Whipped Feta With Charred Scallions\n",
      "Apple Cider and Bourbon Punch\n",
      "Our Newest Recipes\n",
      "Sweet Potato Casserole\n",
      "Savory Oatmeal With Greens and Yogurt\n",
      "The Best Lunch Boxes\n",
      "The Wirecutter 50 Under $50\n",
      "If You Love Your Photos, Don’t Use a Smart Display\n",
      "Learn More About Wirecutter\n",
      "Advertisement\n",
      "Spelling Bee\n",
      "The Crossword\n",
      "Letter Boxed\n",
      "Tiles\n",
      "Vertex\n"
     ]
    }
   ],
   "source": [
    "import requests\n",
    "from bs4 import BeautifulSoup\n",
    " \n",
    "base_url = 'http://www.nytimes.com'\n",
    "r = requests.get(base_url)\n",
    "soup = BeautifulSoup(r.text)\n",
    "paragraphs = soup.find_all('p')\n",
    "\n",
    "for p in paragraphs:\n",
    "    print(p.get_text())"
   ]
  },
  {
   "cell_type": "markdown",
   "id": "1bded28b",
   "metadata": {},
   "source": [
    "Can you guess what each line of the code is doing? How many functions were called in the cell above?"
   ]
  },
  {
   "cell_type": "code",
   "execution_count": null,
   "id": "462eefa5",
   "metadata": {},
   "outputs": [],
   "source": [
    "# Your answer here"
   ]
  },
  {
   "cell_type": "markdown",
   "id": "52400be8",
   "metadata": {},
   "source": [
    "Play around with the \"soup\" variable (print it out helps), and try to parse out the NYTimes headlines for today. Here some helpful information on how to do that: https://www.dataquest.io/blog/web-scraping-tutorial-python/; https://proxiesapi-com.medium.com/scraping-the-new-york-times-with-python-and-beautiful-soup-6e5f3bc58e39"
   ]
  },
  {
   "cell_type": "code",
   "execution_count": null,
   "id": "dd9679d4",
   "metadata": {},
   "outputs": [],
   "source": [
    "# Your code here"
   ]
  },
  {
   "cell_type": "markdown",
   "id": "27c9c1c1",
   "metadata": {},
   "source": [
    "\n",
    "## Problem 2: Exceptions (10 pts)\n",
    "\n",
    "Below is a function called weighted_avg that takes a list of grades and a corresponding list of weights and returns the weighted average of the grades. The function raises what is called an \"exception\" if:\n",
    "\n",
    "    a weight is less than 0 or greater than 100\n",
    "    the weights do not add to 100\n",
    "    the number of weights and grades are not equal\n",
    "    a grade is below 0 (grades above 100 would be considered extra credit and are acceptable)\n"
   ]
  },
  {
   "cell_type": "code",
   "execution_count": null,
   "id": "0deb1600",
   "metadata": {},
   "outputs": [],
   "source": [
    "def weighted_avg(grades,weights):\n",
    " \n",
    "    if any(weight < 0 or weight > 100 for weight in weights):\n",
    "        raise Exception (\"Error: A weight is less than 0 or greater than 100\")\n",
    "\n",
    "    elif sum(weights) != 100:\n",
    "        raise Exception (\"Error: The weights do not add to 100\")\n",
    "\n",
    "    elif len(grades) != len(weights):\n",
    "        raise Exception (\"Error: The number of weights and grades are not equal\")\n",
    "\n",
    "    elif any (grade < 0 for grade in grades):\n",
    "        raise Exception (\"Error: A grade is below 0\")\n",
    "\n",
    "    else:\n",
    "        avg = 0\n",
    "        for i in range(len(grades)):\n",
    "            avg += grades[i] * (weights[i] / 100)\n",
    "        return avg   \n",
    "\n",
    "grades1 = [88,99,100,70]\n",
    "weights1 = [30, 30, 30, 5]\n",
    "\n",
    "grades2 = [78, 75, 80, 99]\n",
    "weights2 = [110, 10, -20, 0]\n",
    "\n",
    "grades3 = [84, 80, 67, 97]\n",
    "weights3 = [50, 25, 25]\n",
    "\n",
    "grades4 = [100, 80, 90, 75]\n",
    "weights4 = [20, 25, 25, 30]\n"
   ]
  },
  {
   "cell_type": "markdown",
   "id": "35af707d",
   "metadata": {},
   "source": [
    "Catching Exceptions (read through and understand)\n",
    "\n",
    "Below is a try...except... procedure to catch an exception or an error.\n",
    "\n",
    "The program tries to execute the weighted_avg function, but the sum of weights is not 100, so it raised an error/exception. Normally, the execution stops. However, with an \"except\" statement, it catches the exception if it arises and keeps executing with the backup plan. This is useful when trying to scrape information from a website to ensure you have a backup plan to resume execution if you fail to connect to the web server or you did not get the desired information. "
   ]
  },
  {
   "cell_type": "code",
   "execution_count": null,
   "id": "4a34b381",
   "metadata": {},
   "outputs": [],
   "source": [
    "grades5 = [100, 80, 90, 75]\n",
    "weights5 = [20, 20, 25, 30]\n",
    "\n",
    "import sys\n",
    "try:\n",
    "    weighted_avg(grades5, weights5)\n",
    "except:\n",
    "    e = sys.exc_info()[0]\n",
    "    print( \"Error: %s\" % e )"
   ]
  },
  {
   "cell_type": "code",
   "execution_count": null,
   "id": "cda21b9e",
   "metadata": {},
   "outputs": [],
   "source": [
    "# Did the above code make sense? Your answer here: "
   ]
  },
  {
   "cell_type": "markdown",
   "id": "02d0965f",
   "metadata": {},
   "source": [
    "## Problem 3: Pandas (10 pts)"
   ]
  },
  {
   "cell_type": "markdown",
   "id": "e4a3c761",
   "metadata": {},
   "source": [
    "Create a pandas dataframe with:\n",
    "\n",
    "1. a column called \"words\", which contains the unique words from the NYTimes headlines from above\n",
    "2. a column called \"frequency\", which contains the frequency of those words from the headlines\n",
    "\n",
    "Save the pandas dataframe into a csv file."
   ]
  },
  {
   "cell_type": "code",
   "execution_count": null,
   "id": "39ac9949",
   "metadata": {},
   "outputs": [],
   "source": [
    "# Your code here"
   ]
  },
  {
   "cell_type": "markdown",
   "id": "0c0053b7",
   "metadata": {},
   "source": [
    "## Problem 4: Twint (20 pts)"
   ]
  },
  {
   "cell_type": "markdown",
   "id": "c3e67bca",
   "metadata": {},
   "source": [
    "Run the following cell to install twint:\n",
    "\n",
    "(Note that we are not directly \"pip install twint\" because sometimes packages are not properly updated with Python versions. Since twint only works for Python 3.6, and most of us have newer versions of Python (>3.8), we found a version of twint that'll support newer version of Python)"
   ]
  },
  {
   "cell_type": "code",
   "execution_count": null,
   "id": "2291b0bc",
   "metadata": {},
   "outputs": [],
   "source": [
    "!pip3 install --user --upgrade git+https://github.com/twintproject/twint.git@origin/master#egg=twint\n",
    "!pip install nest_asyncio"
   ]
  },
  {
   "cell_type": "markdown",
   "id": "61ebdfcb",
   "metadata": {},
   "source": [
    "Import Twint and a asynchronous coordination package (since Twitter server will reply to us when they are available)"
   ]
  },
  {
   "cell_type": "code",
   "execution_count": null,
   "id": "4ca86a5f",
   "metadata": {},
   "outputs": [],
   "source": [
    "import twint\n",
    "import nest_asyncio\n",
    "nest_asyncio.apply()"
   ]
  },
  {
   "cell_type": "markdown",
   "id": "d16248d3",
   "metadata": {},
   "source": [
    "Carefully study the following code, learn about what the parameters do (i.e., Search, Limit, Pandas: https://github.com/twintproject/twint)"
   ]
  },
  {
   "cell_type": "code",
   "execution_count": null,
   "id": "41cfad14",
   "metadata": {
    "scrolled": true
   },
   "outputs": [],
   "source": [
    "c = twint.Config()\n",
    "c.Search = \"#woman\"\n",
    "c.Limit = 1\n",
    "c.Pandas = True\n",
    "c.Hide_output= True\n",
    "twint.run.Search(c)\n",
    "dataframe = twint.storage.panda.Tweets_df\n",
    "dataframe"
   ]
  },
  {
   "cell_type": "markdown",
   "id": "83181174",
   "metadata": {},
   "source": [
    "Adapt the above program to scrape the last 10 tweets from Elon Musk (hint: his twitter handle is \"elonmusk\")"
   ]
  },
  {
   "cell_type": "code",
   "execution_count": null,
   "id": "187b2a2a",
   "metadata": {},
   "outputs": [],
   "source": [
    "# Your code here"
   ]
  },
  {
   "cell_type": "markdown",
   "id": "48a5e1c2",
   "metadata": {},
   "source": [
    "Save the pandas data frame with elon musk tweets into a CSV file"
   ]
  },
  {
   "cell_type": "code",
   "execution_count": null,
   "id": "646006c0",
   "metadata": {},
   "outputs": [],
   "source": [
    "# Your code here"
   ]
  }
 ],
 "metadata": {
  "kernelspec": {
   "display_name": "Python 3",
   "language": "python",
   "name": "python3"
  },
  "language_info": {
   "codemirror_mode": {
    "name": "ipython",
    "version": 3
   },
   "file_extension": ".py",
   "mimetype": "text/x-python",
   "name": "python",
   "nbconvert_exporter": "python",
   "pygments_lexer": "ipython3",
   "version": "3.8.8"
  }
 },
 "nbformat": 4,
 "nbformat_minor": 5
}
