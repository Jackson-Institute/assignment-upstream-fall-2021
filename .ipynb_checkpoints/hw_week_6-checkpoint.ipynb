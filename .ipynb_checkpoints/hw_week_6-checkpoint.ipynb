{
 "cells": [
  {
   "cell_type": "markdown",
   "metadata": {},
   "source": [
    "## 1.0 Dictionaries: 20pts"
   ]
  },
  {
   "cell_type": "markdown",
   "metadata": {},
   "source": [
    "1.1 (2pts) Create a Python dictionary, my_dict, with three key/value pairs (1:\"one\", 2:\"two\", 3:\"three\"). Then, print the result of calling the my_dict.items()."
   ]
  },
  {
   "cell_type": "code",
   "execution_count": null,
   "metadata": {},
   "outputs": [],
   "source": [
    "#Your code here:"
   ]
  },
  {
   "cell_type": "markdown",
   "metadata": {},
   "source": [
    "1.2 (2pts) Now print the result of using .keys()"
   ]
  },
  {
   "cell_type": "code",
   "execution_count": null,
   "metadata": {},
   "outputs": [],
   "source": [
    "# Your code here:"
   ]
  },
  {
   "cell_type": "markdown",
   "metadata": {},
   "source": [
    "1.3 (2pts) Now print the result of using .values():"
   ]
  },
  {
   "cell_type": "code",
   "execution_count": null,
   "metadata": {},
   "outputs": [],
   "source": [
    "# Your code here:"
   ]
  },
  {
   "cell_type": "markdown",
   "metadata": {},
   "source": [
    "1.4 (2pts) Use a for loop to print all of the values in the dictionary you create:"
   ]
  },
  {
   "cell_type": "code",
   "execution_count": null,
   "metadata": {},
   "outputs": [],
   "source": [
    "# Your code here:"
   ]
  },
  {
   "cell_type": "markdown",
   "metadata": {},
   "source": [
    "1.5 (4pts) Given the following dictionary:\n",
    "\n",
    "inventory = {\n",
    "    'gold' : 500,\n",
    "    'pouch' : ['flint', 'twine', 'gemstone'],\n",
    "    'backpack' : ['xylophone','dagger', 'bedroll','bread loaf']\n",
    "}\n",
    "\n",
    "Do the followings:\n",
    "\n",
    "Add a key to inventory called 'pocket'.\n",
    "\n",
    "Set the value of 'pocket' to be a list consisting of the strings 'seashell', 'strange berry', and 'lint'.\n",
    "\n",
    ".sort( )the items in the list stored under the 'backpack' key.\n",
    "\n",
    "Then .remove('dagger') from the list of items stored under the 'backpack' key.\n",
    "Add 50 to the number stored under the 'gold' key."
   ]
  },
  {
   "cell_type": "code",
   "execution_count": null,
   "metadata": {},
   "outputs": [],
   "source": [
    "# Your code here: "
   ]
  },
  {
   "cell_type": "markdown",
   "metadata": {},
   "source": [
    "1.6 (4pts) Comment each line of the following code:\n",
    "\n",
    "Note: good practices for commenting are\n",
    "1. Capitalize the first letter\n",
    "2. leave a space between the # and your comments\n",
    "3. Keep your comments short and concise"
   ]
  },
  {
   "cell_type": "code",
   "execution_count": 1,
   "metadata": {},
   "outputs": [
    {
     "name": "stdout",
     "output_type": "stream",
     "text": [
      "16\n"
     ]
    }
   ],
   "source": [
    "# Your annotation:\n",
    "count={}\n",
    "# Your annotation:\n",
    "count[(1,2,4)] = 5\n",
    "# Your annotation:\n",
    "count[(4,2,1)] = 7\n",
    "# Your annotation:\n",
    "count[(1,2)] = 6\n",
    "# Your annotation:\n",
    "count[(4,2,1)] = 2\n",
    "# Your annoation:\n",
    "tot = 0\n",
    "# Your annotation: \n",
    "for i in count:\n",
    "# Your annotation:\n",
    "    tot=tot+count[i]\n",
    "# Your annotation:\n",
    "print(len(count)+tot)"
   ]
  },
  {
   "cell_type": "markdown",
   "metadata": {},
   "source": [
    "1.7 (2 pts)\n",
    "Which of these about a dictionary is false?\n",
    "\n",
    "a) The values of a dictionary can be accessed using keys\n",
    "\n",
    "b) The keys of a dictionary can be accessed using values\n",
    "\n",
    "c) Dictionaries are ordered\n",
    "\n",
    "d) Dictionaries are mutable\n",
    "\n",
    "e) A dictionary can be inside a dictionary"
   ]
  },
  {
   "cell_type": "code",
   "execution_count": null,
   "metadata": {},
   "outputs": [],
   "source": [
    "# Your Answer Here:"
   ]
  },
  {
   "cell_type": "markdown",
   "metadata": {},
   "source": [
    "1.8 (2pts)\n",
    "\n",
    "Which of the following is not a declaration of the dictionary and why?\n",
    "\n",
    "a) {1: ‘A’, 2: ‘B’}\n",
    "\n",
    "b) dict( [ [1,”A”], [2,”B”] ] )\n",
    "\n",
    "c) {1,”A”,2”B”}\n",
    "\n",
    "d) { }"
   ]
  },
  {
   "cell_type": "code",
   "execution_count": null,
   "metadata": {},
   "outputs": [],
   "source": [
    "# Your Answer Here:"
   ]
  },
  {
   "cell_type": "markdown",
   "metadata": {},
   "source": [
    "1.9 Create a to-do list program using a dictionary of lists (20 points)\n",
    "\n",
    "Write code that stores a to-do list for each day of the week (Sunday through Saturday). Your program needs to have the following elements:\n",
    "\n",
    "-An empty dictionary to store information\n",
    "-A key in the dictionary for each day of the week\n",
    "\n",
    "-Each key has a value of a list that stores the to-do list items\n",
    "\n",
    "User can type \"add\" and the program will ask what day, then ask what item to add to that day. Ensure the user can add multiple items per day. (That is, ensure that this adds a new item, not replaces an existing item.)\n",
    "\n",
    "-User can type \"get\" and the program will ask for the day and print the values\n",
    "\n",
    "-The program will loop, using a while loop, until the user specifies \"quit\"\n",
    "\n",
    "Some user error checking is required, specifically: upper/lowercase for the days of the week, incorrect day of the week, or an incorrect command\n",
    "\n",
    "Hint: This task requires you to use tools you learned \"if\" and \"loops\" along with dictionaries and lists.\n",
    "\n",
    "Example:\n",
    "\n",
    "Prompt: What would you like to do?\n",
    "> add\n",
    "\n",
    "Prompt: What day?\n",
    "> Friday\n",
    "\n",
    "Prompt: What would you like to add to Friday's to-do list?\n",
    "> practice clarinet\n",
    "\n",
    "Prompt: What would you like to do?\n",
    "> get\n",
    "\n",
    "Prompt: What day?\n",
    "> funday\n",
    "Invalid entry - please enter a correct day of the week (like Monday or monday).\n",
    "\n",
    "Prompt: What day?\n",
    "> friday\n",
    "\n",
    "Response: You have to practice clarinet.\n",
    "\n",
    "Prompt: What would you like to do?\n",
    "> quit\n",
    "\n",
    "Response: Ending program. Thank you for using the to-do list!\n"
   ]
  },
  {
   "cell_type": "code",
   "execution_count": null,
   "metadata": {},
   "outputs": [],
   "source": [
    "# Your code here:"
   ]
  },
  {
   "cell_type": "markdown",
   "metadata": {},
   "source": [
    "## 2.0 Functions"
   ]
  },
  {
   "cell_type": "markdown",
   "metadata": {},
   "source": [
    "2.1 (3pts) Write a Python function to sum all the numbers in a list."
   ]
  },
  {
   "cell_type": "code",
   "execution_count": 3,
   "metadata": {},
   "outputs": [],
   "source": [
    "# Your code here: "
   ]
  },
  {
   "cell_type": "markdown",
   "metadata": {},
   "source": [
    "2.2 (3pts) Write a Python function to check if a rectangle is a square given width and height."
   ]
  },
  {
   "cell_type": "code",
   "execution_count": 4,
   "metadata": {},
   "outputs": [],
   "source": [
    "# Your code here: "
   ]
  },
  {
   "cell_type": "markdown",
   "metadata": {},
   "source": [
    "2.3 (10pts) Create a function that concatenates strings.\n"
   ]
  },
  {
   "cell_type": "code",
   "execution_count": null,
   "metadata": {},
   "outputs": [],
   "source": [
    "# Your code here:"
   ]
  },
  {
   "cell_type": "markdown",
   "metadata": {},
   "source": [
    "2.4 (20pts) As we approach the end of COVID-19, let's create functions to calculate trip costs:\n",
    "\n",
    "1. Define a function called \"hotel_cost\" with one argument nights as input. The hotel costs 140 dollars per night. So, the function \"hotel_cost\" should return 140 * nights.\n",
    "\n",
    "2. Define a function called \"plane_ride_cost\" that takes a string, city, as input. The function should return a different price depending on the location, similar to the code example above. Below are the valid destinations and their corresponding round-trip prices.\n",
    "\n",
    "\"Charlotte\": 183\n",
    "\"Tampa\": 220\n",
    "\"Pittsburgh\": 222\n",
    "\"Los Angeles\": 475\n",
    "\n",
    "3. Define a function called \"rental_car_cost\" with an argument called days. Calculate the cost of renting the car: Every day you rent the car costs 28 dollars. If you rent the car for 7 or more days, you get 75 dollars off your total. Alternatively, if you rent the car for 3 or more days, you get 20 dollars off your total. You cannot get both of the above discounts. Return that cost of renting a car for days specified by the argument. \n",
    "\n",
    "4. Define a function called \"trip_cost\" that takes two arguments, city and days. Using the functions above, have the trip_cost function return the sum of calling the rental_car_cost(days), hotel_cost(days), and plane_ride_cost(city) functions.\n",
    "\n",
    "5. Modify your \"trip_cost\" function definion, and add a third argument called spending_money. Add the variable spending_money to the sum of the cost returned by the trip_cost, so that you can have extra spending money planned for the trip."
   ]
  },
  {
   "cell_type": "code",
   "execution_count": null,
   "metadata": {},
   "outputs": [],
   "source": []
  },
  {
   "cell_type": "markdown",
   "metadata": {},
   "source": [
    "## 3. Make Tuples Not War"
   ]
  },
  {
   "cell_type": "markdown",
   "metadata": {},
   "source": [
    "3.1 (5pts) Write a script that takes in a list of numbers separated by commas (e.g. \"1,2,3,4,5\") and:\n",
    "* sorts the numbers\n",
    "* stores the numers in tuples of two in a list\n",
    "* prints each tuple\n",
    "    \n",
    "notes:\n",
    "If the user enters an odd-numbered list, add the last item to a tuple with the number 0. \n",
    "\n",
    "Example output:\n",
    "(1,2)\n",
    "(3,4)\n",
    "(5,0)"
   ]
  },
  {
   "cell_type": "code",
   "execution_count": null,
   "metadata": {},
   "outputs": [],
   "source": [
    "#Your code here:"
   ]
  },
  {
   "cell_type": "markdown",
   "metadata": {},
   "source": [
    "3.2 (2pts) Make a string from the following tuple: \n",
    "   tuple_1=(F','o','o','b','a','W','o','o','b','a','J','o','h','n')"
   ]
  },
  {
   "cell_type": "code",
   "execution_count": null,
   "metadata": {},
   "outputs": [],
   "source": [
    "# Your code here: "
   ]
  }
 ],
 "metadata": {
  "kernelspec": {
   "display_name": "Python 3",
   "language": "python",
   "name": "python3"
  },
  "language_info": {
   "codemirror_mode": {
    "name": "ipython",
    "version": 3
   },
   "file_extension": ".py",
   "mimetype": "text/x-python",
   "name": "python",
   "nbconvert_exporter": "python",
   "pygments_lexer": "ipython3",
   "version": "3.8.8"
  }
 },
 "nbformat": 4,
 "nbformat_minor": 2
}
