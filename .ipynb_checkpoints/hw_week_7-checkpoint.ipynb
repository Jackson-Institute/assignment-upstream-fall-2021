{
 "cells": [
  {
   "cell_type": "markdown",
   "id": "58e5b4ee",
   "metadata": {},
   "source": [
    "### All the president's speeches\n",
    "45pts"
   ]
  },
  {
   "cell_type": "markdown",
   "id": "60ba26ce",
   "metadata": {},
   "source": [
    "As we learned last week, word frequency distribution is an intuitive way of determining the major themes, topics, or even preoccupations of the speech giver (to be even more fancy, checkout Term Frequency-Inverse Document Frequency - TF-IDF). Pull texts from different US presidents and use FreqDist() to gain insights into the data. This is a fairly open assignment. The goal is to identify something interesting! Pull the text, tokenize, remove stopwords, and plot the frequency of the words. That's the technical part. But much of this assignment is your ability to use word frequency (or TF-IDF) to gain insights comparatively, intra or inter presidents. Let the python code from our lecture be your guide! The more interesting and creative the analysis, the more points you will receive. We might pick one student's analysis to be displayed in lecture, and that person will receive bonus credit for the work."
   ]
  },
  {
   "cell_type": "code",
   "execution_count": null,
   "id": "4752c7fb",
   "metadata": {},
   "outputs": [],
   "source": [
    "# Your analysis here"
   ]
  },
  {
   "cell_type": "markdown",
   "id": "6617fdb7",
   "metadata": {},
   "source": [
    "### NLTK\n",
    "\n",
    "45pts"
   ]
  },
  {
   "cell_type": "markdown",
   "id": "582dbba9",
   "metadata": {},
   "source": [
    "TBD"
   ]
  },
  {
   "cell_type": "code",
   "execution_count": 7,
   "id": "e7938911",
   "metadata": {},
   "outputs": [],
   "source": [
    "# Your code here"
   ]
  },
  {
   "cell_type": "markdown",
   "id": "67c1edfb",
   "metadata": {},
   "source": [
    "### Twitter Developer Account\n",
    "10pts"
   ]
  },
  {
   "cell_type": "markdown",
   "id": "1f7daf4c",
   "metadata": {},
   "source": [
    "Apply for a Twitter development account using your Yale email: https://developer.twitter.com/en/apply-for-access. Paste your twitter handle below."
   ]
  },
  {
   "cell_type": "code",
   "execution_count": 8,
   "id": "7652801d",
   "metadata": {},
   "outputs": [],
   "source": [
    "# Your twitter handle here"
   ]
  }
 ],
 "metadata": {
  "kernelspec": {
   "display_name": "Python 3",
   "language": "python",
   "name": "python3"
  },
  "language_info": {
   "codemirror_mode": {
    "name": "ipython",
    "version": 3
   },
   "file_extension": ".py",
   "mimetype": "text/x-python",
   "name": "python",
   "nbconvert_exporter": "python",
   "pygments_lexer": "ipython3",
   "version": "3.8.8"
  }
 },
 "nbformat": 4,
 "nbformat_minor": 5
}
